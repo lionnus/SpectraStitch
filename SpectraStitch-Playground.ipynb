{
 "cells": [
  {
   "cell_type": "markdown",
   "metadata": {},
   "source": [
    "# Spectra Stitch"
   ]
  },
  {
   "cell_type": "markdown",
   "metadata": {},
   "source": [
    "Transform music to graphics"
   ]
  },
  {
   "cell_type": "markdown",
   "metadata": {},
   "source": [
    "1. Load libraries"
   ]
  },
  {
   "cell_type": "code",
   "execution_count": 4,
   "metadata": {},
   "outputs": [],
   "source": [
    "import numpy as np\n",
    "import librosa\n",
    "import matplotlib.pyplot as plt"
   ]
  },
  {
   "cell_type": "markdown",
   "metadata": {},
   "source": [
    "2. Define functions"
   ]
  },
  {
   "cell_type": "code",
   "execution_count": 18,
   "metadata": {},
   "outputs": [],
   "source": [
    "\n",
    "def load_audio(file_name):\n",
    "    y, sr = librosa.load(file_name, sr=None)\n",
    "    print(\"Length of sample: \", len(y))\n",
    "    print(\"Sample rate: \", sr)\n",
    "    return y, sr\n",
    "\n",
    "def compute_dft_slices(y, sr, X_DIM, Y_DIM):\n",
    "    n_slices = X_DIM * Y_DIM\n",
    "    slice_len = len(y) // n_slices\n",
    "    print(\"Length of slice: \", slice_len)\n",
    "    slices = [y[i:i+slice_len] for i in range(0, slice_len * n_slices, slice_len)]\n",
    "    print(\"Number of slices: \", len(slices))\n",
    "    \n",
    "    dft_slices = [np.abs(np.fft.fft(slice)) for slice in slices]\n",
    "    print(\"Number of DFT slices: \", len(dft_slices))\n",
    "    return dft_slices\n",
    "\n",
    "def map_to_color(dft_slices):\n",
    "    max_frequencies = [np.argmax(slice) for slice in dft_slices]\n",
    "    # Normalize frequencies to [0, 1] and map to colors\n",
    "    # colors = plt.cm.jet(np.array(max_frequencies) / max(max_frequencies))\n",
    "    # Option to change colors\n",
    "    colors = plt.cm.viridis(np.array(max_frequencies) / max(max_frequencies))\n",
    "    return colors\n",
    "\n",
    "\n",
    "def reshape(colors, X_DIM, Y_DIM, Y_SCALE):\n",
    "    # Initial reshape\n",
    "    image = np.reshape(colors, (Y_DIM, X_DIM, 4))[:, :, :3]\n",
    "    \n",
    "    # Multiply the height of the image by repeating rows based on Y_SCALE\n",
    "    new_image = []\n",
    "    for row in image:\n",
    "        for _ in range(Y_SCALE):\n",
    "            new_image.append(row)\n",
    "    return np.array(new_image)\n",
    "\n",
    "def main(MUSIC_FILE_NAME, GRAPHICS_FILE_NAME, X_DIM, Y_DIM, Y_SCALE, PDF_RESOLUTION):\n",
    "    # Use load_audio function to load music file, add extension mp3\n",
    "    y, sr = load_audio(MUSIC_FILE_NAME)\n",
    "    dft_slices = compute_dft_slices(y, sr, X_DIM, Y_DIM)\n",
    "    colors = map_to_color(dft_slices)\n",
    "    # Plot image and save\n",
    "    image = reshape(colors, X_DIM, Y_DIM, Y_SCALE)\n",
    "    plt.imshow(image)\n",
    "    plt.axis('off')\n",
    "    # Save image to lossless pdf file, upscale to dpi\n",
    "    plt.savefig(GRAPHICS_FILE_NAME, bbox_inches='tight', pad_inches=0, dpi=PDF_RESOLUTION)\n",
    "    plt.show()\n",
    "    \n",
    "\n",
    "# import argparse\n",
    "# if __name__ == \"__main__\":\n",
    "#     parser = argparse.ArgumentParser(description=\"Generate graphics from music using DFT.\")\n",
    "#     parser.add_argument(\"MUSIC_FILE_NAME\", type=str, help=\"Path to the music file.\")\n",
    "#     parser.add_argument(\"GRAPHICS_FILE_NAME\", type=str, help=\"Path to save the generated graphics.\")\n",
    "#     parser.add_argument(\"X_DIM\", type=int, help=\"Width of the generated image.\")\n",
    "#     parser.add_argument(\"Y_DIM\", type=int, help=\"Height of the generated image.\")\n",
    "#     parser.add_argument(\"PDF_RESOLUTION\", type=int, help=\"Resolution of the saved PDF.\")\n",
    "    \n",
    "#     args = parser.parse_args()\n",
    "    \n",
    "#     main(args.MUSIC_FILE_NAME, args.GRAPHICS_FILE_NAME, args.X_DIM, args.Y_DIM, args.PDF_RESOLUTION)"
   ]
  },
  {
   "cell_type": "markdown",
   "metadata": {},
   "source": [
    "3. Run on select samples"
   ]
  },
  {
   "cell_type": "code",
   "execution_count": 19,
   "metadata": {},
   "outputs": [
    {
     "name": "stdout",
     "output_type": "stream",
     "text": [
      "Length of sample:  8919040\n",
      "Sample rate:  44100\n",
      "Length of slice:  3567\n",
      "Number of slices:  2500\n",
      "Number of DFT slices:  2500\n"
     ]
    },
    {
     "data": {
      "image/png": "[encoded data removed]",
      "text/plain": [
       "<Figure size 640x480 with 1 Axes>"
      ]
     },
     "metadata": {},
     "output_type": "display_data"
    }
   ],
   "source": [
    "# Write code that uses above functions to create a spectrogram image from a music file\n",
    "# Use the following parameters:\n",
    "MUSIC_FILE_NAME = 'Samples/sample_1.mp3'\n",
    "GRAPHICS_FILE_NAME = 'Outputs/sample_1_output_2.pdf'\n",
    "X_DIM=100\n",
    "Y_DIM=25\n",
    "Y_SCALE=4\n",
    "PDF_RESOLUTION=3000\n",
    "# Run main function, pass file names under subfolers 'Samples' and 'Outputs'\n",
    "main(MUSIC_FILE_NAME, GRAPHICS_FILE_NAME, X_DIM, Y_DIM, Y_SCALE, PDF_RESOLUTION)\n"
   ]
  },
  {
   "cell_type": "code",
   "execution_count": null,
   "metadata": {},
   "outputs": [],
   "source": []
  },
  {
   "cell_type": "code",
   "execution_count": null,
   "metadata": {},
   "outputs": [],
   "source": []
  }
 ],
 "metadata": {
  "kernelspec": {
   "display_name": "Python 3",
   "language": "python",
   "name": "python3"
  },
  "language_info": {
   "codemirror_mode": {
    "name": "ipython",
    "version": 3
   },
   "file_extension": ".py",
   "mimetype": "text/x-python",
   "name": "python",
   "nbconvert_exporter": "python",
   "pygments_lexer": "ipython3",
   "version": "3.8.17"
  },
  "orig_nbformat": 4
 },
 "nbformat": 4,
 "nbformat_minor": 2
}
